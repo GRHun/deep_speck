{
 "cells": [
  {
   "cell_type": "markdown",
   "id": "f949ab09",
   "metadata": {},
   "source": [
    "# Speck"
   ]
  },
  {
   "cell_type": "markdown",
   "id": "0f4f4d03",
   "metadata": {
    "code_folding": []
   },
   "source": [
    "## 预备代码"
   ]
  },
  {
   "cell_type": "code",
   "execution_count": 2,
   "id": "0e512a13",
   "metadata": {},
   "outputs": [],
   "source": [
    "import numpy as np\n",
    "from os import urandom\n",
    "import speck as sp\n",
    "from math import sqrt, log, log2"
   ]
  },
  {
   "cell_type": "code",
   "execution_count": 12,
   "id": "7693f66b",
   "metadata": {},
   "outputs": [],
   "source": [
    "# def WORD_SIZE():\n",
    "#     return 16\n",
    "\n",
    "def convert_to_binary(arr):\n",
    "    X = np.zeros((4 * WORD_SIZE(), len(arr[0])), dtype=np.uint8)\n",
    "    # zeros(shape, dtype=float, order='C')\n",
    "    for i in range(4 * WORD_SIZE()):\n",
    "        index = i // WORD_SIZE()\n",
    "        offset = WORD_SIZE() - (i % WORD_SIZE()) - 1\n",
    "        X[i] = (arr[index] >> offset) & 1\n",
    "    # 对于二维ndarray，transpose在不指定参数是默认是矩阵转置\n",
    "    X = X.transpose()\n",
    "    return (X)\n"
   ]
  },
  {
   "cell_type": "markdown",
   "id": "43db6673",
   "metadata": {},
   "source": [
    "### gen_plain(n)"
   ]
  },
  {
   "cell_type": "code",
   "execution_count": 13,
   "id": "ecf4194b",
   "metadata": {
    "code_folding": [
     0
    ]
   },
   "outputs": [],
   "source": [
    "def gen_plain(n):\n",
    "    \"\"\"\n",
    "    生成n个明文对(pt0, pt1)，pt0/1是存储明文对的左/右半部分的16位，\n",
    "    @para:  n - 明文对个数\n",
    "    \"\"\"\n",
    "    pt0 = np.frombuffer(urandom(2*n), dtype=np.uint16)\n",
    "    pt1 = np.frombuffer(urandom(2*n), dtype=np.uint16)\n",
    "    return (pt0, pt1)"
   ]
  },
  {
   "cell_type": "code",
   "execution_count": 26,
   "id": "a7de80c2",
   "metadata": {},
   "outputs": [
    {
     "data": {
      "text/plain": [
       "(array([13718, 57013, 45561, 48155, 15107], dtype=uint16),\n",
       " array([58777, 28943, 28650, 57805, 41749], dtype=uint16))"
      ]
     },
     "execution_count": 26,
     "metadata": {},
     "output_type": "execute_result"
    }
   ],
   "source": [
    "# 生成n个16位的明文对\n",
    "n = 5\n",
    "gen_plain(n)"
   ]
  },
  {
   "cell_type": "markdown",
   "id": "a583c4cc",
   "metadata": {},
   "source": [
    "### make_structure(pt0, pt1, diff=(0x211, 0xa04), neutral_bits=[]):"
   ]
  },
  {
   "cell_type": "code",
   "execution_count": 15,
   "id": "4cfb767d",
   "metadata": {
    "code_folding": []
   },
   "outputs": [],
   "source": [
    "def make_structure(pt0, pt1, diff=(0x211, 0xa04), neutral_bits=[20, 21, 22, 14, 15]):\n",
    "    \"\"\"生成明文结构\n",
    "    @para:  (pt0,pt1) - 明文对\n",
    "    @example: \n",
    "        pt0, pt1 = gen_plain(n)\n",
    "        pt0a, pt1a, pt0b, pt1b = make_structure(pt0, pt1, diff=diff, neutral_bits=neutral_bits)\n",
    "    \"\"\"\n",
    "    p0 = np.copy(pt0)\n",
    "    p1 = np.copy(pt1)\n",
    "    # 拉成一列\n",
    "    p0 = p0.reshape(-1, 1)\n",
    "    p1 = p1.reshape(-1, 1)\n",
    "\n",
    "    # i 需要区分大于16和小于16的情况\n",
    "    # 如果i在左边，i>15,那么左移16位，d0就挪到左边的p0对应的下标，d&0xffff全部为0，d1异或不影响\n",
    "    # 如果i在右边，i<15,那么左移16位，d0就为0，异或无影响，d&111...11,保留右边的p1对应下标\n",
    "    for i in neutral_bits:\n",
    "        d = 1 << i\n",
    "        d0 = d >> 16\n",
    "        d1 = d & 0xffff\n",
    "        p0 = np.concatenate([p0, p0 ^ d0], axis=1)\n",
    "        p1 = np.concatenate([p1, p1 ^ d1], axis=1)\n",
    "    p0b = p0 ^ diff[0]\n",
    "    p1b = p1 ^ diff[1]\n",
    "    # (x, y, x', y')\n",
    "    return (p0, p1, p0b, p1b)"
   ]
  },
  {
   "cell_type": "code",
   "execution_count": 38,
   "id": "d444a9cd",
   "metadata": {},
   "outputs": [],
   "source": [
    "def test_make_structure(pt0, pt1, diff=(0x211, 0xa04), neutral_bits=[20, 21, 22, 14, 15]):\n",
    "    \"\"\"生成明文结构\n",
    "    @para:  (pt0,pt1) - 明文对\n",
    "    @example: \n",
    "        pt0, pt1 = gen_plain(n)\n",
    "        pt0a, pt1a, pt0b, pt1b = make_structure(pt0, pt1, diff=diff, neutral_bits=neutral_bits)\n",
    "    \"\"\"\n",
    "    p0 = np.copy(pt0)\n",
    "    p1 = np.copy(pt1)\n",
    "    print(\"====>p0,p1\\n\",p0,p1)\n",
    "    # 拉成一列\n",
    "    p0 = p0.reshape(-1, 1)\n",
    "    p1 = p1.reshape(-1, 1)\n",
    "    print(\"====>p0,p1\\n\",p0,\"\\n\",p1)\n",
    "    # i 需要区分大于16和小于16的情况\n",
    "    # 如果i在左边，i>15,那么左移16位，d0就挪到左边的p0对应的下标，d&0xffff全部为0，d1异或不影响\n",
    "    # 如果i在右边，i<15,那么左移16位，d0就为0，异或无影响，d&111...11,保留右边的p1对应下标\n",
    "    for i in neutral_bits:\n",
    "        d = 1 << i\n",
    "        d0 = d >> 16\n",
    "        d1 = d & 0xffff\n",
    "        p0 = np.concatenate([p0, p0 ^ d0], axis=1)\n",
    "        p1 = np.concatenate([p1, p1 ^ d1], axis=1)\n",
    "    print(\"====>p0,p1\\n\",p0,\"\\n\",p1)\n",
    "    p0b = p0 ^ diff[0]\n",
    "    p1b = p1 ^ diff[1]\n",
    "    print(\"====>p0b,p1b\\n\",p0b,\"\\n\",p1b)\n",
    "    # (x, y, x', y')\n",
    "    return (p0, p1, p0b, p1b)"
   ]
  },
  {
   "cell_type": "code",
   "execution_count": 44,
   "id": "f2577d0f",
   "metadata": {
    "collapsed": true
   },
   "outputs": [
    {
     "data": {
      "text/plain": [
       "(array([24751, 65224, 11304, 57696, 57673], dtype=uint16),\n",
       " array([  494,  3954, 41156, 51129, 44665], dtype=uint16))"
      ]
     },
     "execution_count": 44,
     "metadata": {},
     "output_type": "execute_result"
    }
   ],
   "source": [
    "test_make_structure_x ,test_make_structure_y = gen_plain(5)\n",
    "test_make_structure_x ,test_make_structure_y"
   ]
  },
  {
   "cell_type": "code",
   "execution_count": 45,
   "id": "3ecfd595",
   "metadata": {
    "collapsed": true
   },
   "outputs": [
    {
     "name": "stdout",
     "output_type": "stream",
     "text": [
      "====>p0,p1\n",
      " [24751 65224 11304 57696 57673] [  494  3954 41156 51129 44665]\n",
      "====>p0,p1\n",
      " [[24751]\n",
      " [65224]\n",
      " [11304]\n",
      " [57696]\n",
      " [57673]] \n",
      " [[  494]\n",
      " [ 3954]\n",
      " [41156]\n",
      " [51129]\n",
      " [44665]]\n",
      "====>p0,p1\n",
      " [[24751 24751 24751 24751]\n",
      " [65224 65224 65224 65224]\n",
      " [11304 11304 11304 11304]\n",
      " [57696 57696 57696 57696]\n",
      " [57673 57673 57673 57673]] \n",
      " [[  494   492 33262 33260]\n",
      " [ 3954  3952 36722 36720]\n",
      " [41156 41158  8388  8390]\n",
      " [51129 51131 18361 18363]\n",
      " [44665 44667 11897 11899]]\n",
      "====>p0b,p1b\n",
      " [[25278 25278 25278 25278]\n",
      " [64729 64729 64729 64729]\n",
      " [11833 11833 11833 11833]\n",
      " [58225 58225 58225 58225]\n",
      " [58200 58200 58200 58200]] \n",
      " [[ 3050  3048 35818 35816]\n",
      " [ 1398  1396 34166 34164]\n",
      " [43712 43714 10944 10946]\n",
      " [52669 52671 19901 19903]\n",
      " [42109 42111  9341  9343]]\n"
     ]
    },
    {
     "data": {
      "text/plain": [
       "(array([[24751, 24751, 24751, 24751],\n",
       "        [65224, 65224, 65224, 65224],\n",
       "        [11304, 11304, 11304, 11304],\n",
       "        [57696, 57696, 57696, 57696],\n",
       "        [57673, 57673, 57673, 57673]], dtype=uint16),\n",
       " array([[  494,   492, 33262, 33260],\n",
       "        [ 3954,  3952, 36722, 36720],\n",
       "        [41156, 41158,  8388,  8390],\n",
       "        [51129, 51131, 18361, 18363],\n",
       "        [44665, 44667, 11897, 11899]], dtype=uint16),\n",
       " array([[25278, 25278, 25278, 25278],\n",
       "        [64729, 64729, 64729, 64729],\n",
       "        [11833, 11833, 11833, 11833],\n",
       "        [58225, 58225, 58225, 58225],\n",
       "        [58200, 58200, 58200, 58200]], dtype=uint16),\n",
       " array([[ 3050,  3048, 35818, 35816],\n",
       "        [ 1398,  1396, 34166, 34164],\n",
       "        [43712, 43714, 10944, 10946],\n",
       "        [52669, 52671, 19901, 19903],\n",
       "        [42109, 42111,  9341,  9343]], dtype=uint16))"
      ]
     },
     "execution_count": 45,
     "metadata": {},
     "output_type": "execute_result"
    }
   ],
   "source": [
    "test_make_structure(test_make_structure_x ,test_make_structure_y, diff=(0x211, 0xa04), neutral_bits=[1,15])"
   ]
  },
  {
   "cell_type": "code",
   "execution_count": 24,
   "id": "6347af6c",
   "metadata": {},
   "outputs": [
    {
     "data": {
      "text/plain": [
       "(array([61708, 38737, 34253], dtype=uint16),\n",
       " array([61732, 22460, 14909], dtype=uint16))"
      ]
     },
     "execution_count": 24,
     "metadata": {},
     "output_type": "execute_result"
    }
   ],
   "source": [
    "pt0, pt1 = gen_plain(3)\n",
    "pt0,pt1"
   ]
  },
  {
   "cell_type": "code",
   "execution_count": 28,
   "id": "d24ff2e2",
   "metadata": {
    "collapsed": true
   },
   "outputs": [
    {
     "data": {
      "text/plain": [
       "(array([[61708, 61724, 61740, 61756],\n",
       "        [38737, 38721, 38769, 38753],\n",
       "        [34253, 34269, 34285, 34301]], dtype=uint16),\n",
       " array([[61732, 61732, 61732, 61732],\n",
       "        [22460, 22460, 22460, 22460],\n",
       "        [14909, 14909, 14909, 14909]], dtype=uint16),\n",
       " array([[62237, 62221, 62269, 62253],\n",
       "        [38208, 38224, 38240, 38256],\n",
       "        [34780, 34764, 34812, 34796]], dtype=uint16),\n",
       " array([[64288, 64288, 64288, 64288],\n",
       "        [23992, 23992, 23992, 23992],\n",
       "        [12345, 12345, 12345, 12345]], dtype=uint16))"
      ]
     },
     "execution_count": 28,
     "metadata": {},
     "output_type": "execute_result"
    }
   ],
   "source": [
    "# make_structure(pt0, pt1, diff=(0x211, 0xa04), neutral_bits=[20, 21, 22, 14, 15])\n",
    "make_structure(pt0, pt1, diff=(0x211, 0xa04), neutral_bits=[20, 21])"
   ]
  },
  {
   "cell_type": "markdown",
   "id": "289b58b9",
   "metadata": {},
   "source": [
    "### make_train_data(n, nr, diff=(0x0040,0))"
   ]
  },
  {
   "cell_type": "code",
   "execution_count": 17,
   "id": "36279ea6",
   "metadata": {
    "code_folding": []
   },
   "outputs": [],
   "source": [
    "#baseline training data generator   \n",
    "def make_train_data(n, nr, diff=(0x0040, 0)):\n",
    "    \"\"\"\n",
    "    生成训练数据, 返回(X,Y), 16位的二进制([ctdata0l, ctdata0r, ctdata1l, ctdata1r])\n",
    "    @para:  n   - 生成的数据数量\n",
    "            nr  - 加密轮数\n",
    "    \"\"\"\n",
    "    Y = np.frombuffer(urandom(n), dtype=np.uint8)\n",
    "    # numpy.frombuffer 用于实现动态数组。接受 buffer 输入参数，以流的形式读入转化成 ndarray 对象。\n",
    "    # numpy.frombuffer(buffer, dtype = float[返回数组的数据类型], count = -1, offset = 0)\n",
    "    # urandom(n),返回大小为 n 的字节串，它是适合加密使用的随机字节。\n",
    "    Y = Y & 1  # 取最后一位，Y变成长为n的0，1的numpy.ndarray\n",
    "\n",
    "    # 随机生成主密钥，满足固定差分diff的明文对（plain0，plain1）\n",
    "    keys = np.frombuffer(urandom(8*n), dtype=np.uint16).reshape(4, -1)\n",
    "    plain0l = np.frombuffer(urandom(2*n), dtype=np.uint16)\n",
    "    plain0r = np.frombuffer(urandom(2*n), dtype=np.uint16)\n",
    "    plain1l = plain0l ^ diff[0]\n",
    "    plain1r = plain0r ^ diff[1]\n",
    "\n",
    "    num_rand_samples = np.sum(Y == 0)\n",
    "    # 如果Y=0，就用新生成的随机明文代替Plain1（第二个明文）\n",
    "    plain1l[Y == 0] = np.frombuffer(\n",
    "        urandom(2*num_rand_samples), dtype=np.uint16)\n",
    "    plain1r[Y == 0] = np.frombuffer(\n",
    "        urandom(2*num_rand_samples), dtype=np.uint16)\n",
    "\n",
    "    ks = expand_key(keys, nr)   # 生成nr个字密钥\n",
    "    # 然后对所有的明文对进行nr轮加密\n",
    "    ctdata0l, ctdata0r = encrypt((plain0l, plain0r), ks)\n",
    "    ctdata1l, ctdata1r = encrypt((plain1l, plain1r), ks)\n",
    "    X = convert_to_binary([ctdata0l, ctdata0r, ctdata1l, ctdata1r])\n",
    "    return (X, Y)\n"
   ]
  },
  {
   "cell_type": "code",
   "execution_count": 46,
   "id": "c5364f58",
   "metadata": {},
   "outputs": [
    {
     "ename": "ValueError",
     "evalue": "too many values to unpack (expected 2)",
     "output_type": "error",
     "traceback": [
      "\u001b[1;31m---------------------------------------------------------------------------\u001b[0m",
      "\u001b[1;31mValueError\u001b[0m                                Traceback (most recent call last)",
      "Input \u001b[1;32mIn [46]\u001b[0m, in \u001b[0;36m<cell line: 1>\u001b[1;34m()\u001b[0m\n\u001b[1;32m----> 1\u001b[0m X,Y \u001b[38;5;241m=\u001b[39m make_structure(\u001b[38;5;241m5\u001b[39m,\u001b[38;5;241m3\u001b[39m)\n",
      "\u001b[1;31mValueError\u001b[0m: too many values to unpack (expected 2)"
     ]
    }
   ],
   "source": [
    "X,Y = make_structure(5,3)\n",
    "X,Y"
   ]
  },
  {
   "cell_type": "code",
   "execution_count": null,
   "id": "b3cd3505",
   "metadata": {},
   "outputs": [],
   "source": []
  }
 ],
 "metadata": {
  "kernelspec": {
   "display_name": "Python 3 (ipykernel)",
   "language": "python",
   "name": "python3"
  },
  "language_info": {
   "codemirror_mode": {
    "name": "ipython",
    "version": 3
   },
   "file_extension": ".py",
   "mimetype": "text/x-python",
   "name": "python",
   "nbconvert_exporter": "python",
   "pygments_lexer": "ipython3",
   "version": "3.9.12"
  },
  "toc": {
   "base_numbering": 1,
   "nav_menu": {
    "height": "126px",
    "width": "240px"
   },
   "number_sections": true,
   "sideBar": true,
   "skip_h1_title": false,
   "title_cell": "Table of Contents",
   "title_sidebar": "Contents",
   "toc_cell": false,
   "toc_position": {
    "height": "795px",
    "left": "22px",
    "top": "197.125px",
    "width": "165px"
   },
   "toc_section_display": true,
   "toc_window_display": true
  },
  "varInspector": {
   "cols": {
    "lenName": 16,
    "lenType": 16,
    "lenVar": 40
   },
   "kernels_config": {
    "python": {
     "delete_cmd_postfix": "",
     "delete_cmd_prefix": "del ",
     "library": "var_list.py",
     "varRefreshCmd": "print(var_dic_list())"
    },
    "r": {
     "delete_cmd_postfix": ") ",
     "delete_cmd_prefix": "rm(",
     "library": "var_list.r",
     "varRefreshCmd": "cat(var_dic_list()) "
    }
   },
   "position": {
    "height": "248.844px",
    "left": "1550px",
    "right": "20px",
    "top": "120px",
    "width": "350px"
   },
   "types_to_exclude": [
    "module",
    "function",
    "builtin_function_or_method",
    "instance",
    "_Feature"
   ],
   "window_display": false
  }
 },
 "nbformat": 4,
 "nbformat_minor": 5
}
